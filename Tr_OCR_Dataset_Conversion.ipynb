{
  "nbformat": 4,
  "nbformat_minor": 0,
  "metadata": {
    "colab": {
      "provenance": [],
      "mount_file_id": "1AK39hcz6t1dAw78d8IOoKaiqaQN9NB-M",
      "authorship_tag": "ABX9TyMpyj7we/p/Hwg2LtkFhMo7",
      "include_colab_link": true
    },
    "kernelspec": {
      "name": "python3",
      "display_name": "Python 3"
    },
    "language_info": {
      "name": "python"
    }
  },
  "cells": [
    {
      "cell_type": "markdown",
      "metadata": {
        "id": "view-in-github",
        "colab_type": "text"
      },
      "source": [
        "<a href=\"https://colab.research.google.com/github/Snap0dragon/Bangla-ANPR-using-Vision-Transformer/blob/main/Tr_OCR_Dataset_Conversion.ipynb\" target=\"_parent\"><img src=\"https://colab.research.google.com/assets/colab-badge.svg\" alt=\"Open In Colab\"/></a>"
      ]
    },
    {
      "cell_type": "code",
      "execution_count": 2,
      "metadata": {
        "colab": {
          "base_uri": "https://localhost:8080/",
          "height": 329
        },
        "id": "3etT91pCLEef",
        "outputId": "bd155215-3659-4a38-edc1-283a37c87f21"
      },
      "outputs": [
        {
          "output_type": "stream",
          "name": "stdout",
          "text": [
            "Requirement already satisfied: kaggle in /usr/local/lib/python3.11/dist-packages (1.6.17)\n",
            "Requirement already satisfied: six>=1.10 in /usr/local/lib/python3.11/dist-packages (from kaggle) (1.17.0)\n",
            "Requirement already satisfied: certifi>=2023.7.22 in /usr/local/lib/python3.11/dist-packages (from kaggle) (2025.1.31)\n",
            "Requirement already satisfied: python-dateutil in /usr/local/lib/python3.11/dist-packages (from kaggle) (2.8.2)\n",
            "Requirement already satisfied: requests in /usr/local/lib/python3.11/dist-packages (from kaggle) (2.32.3)\n",
            "Requirement already satisfied: tqdm in /usr/local/lib/python3.11/dist-packages (from kaggle) (4.67.1)\n",
            "Requirement already satisfied: python-slugify in /usr/local/lib/python3.11/dist-packages (from kaggle) (8.0.4)\n",
            "Requirement already satisfied: urllib3 in /usr/local/lib/python3.11/dist-packages (from kaggle) (2.3.0)\n",
            "Requirement already satisfied: bleach in /usr/local/lib/python3.11/dist-packages (from kaggle) (6.2.0)\n",
            "Requirement already satisfied: webencodings in /usr/local/lib/python3.11/dist-packages (from bleach->kaggle) (0.5.1)\n",
            "Requirement already satisfied: text-unidecode>=1.3 in /usr/local/lib/python3.11/dist-packages (from python-slugify->kaggle) (1.3)\n",
            "Requirement already satisfied: charset-normalizer<4,>=2 in /usr/local/lib/python3.11/dist-packages (from requests->kaggle) (3.4.1)\n",
            "Requirement already satisfied: idna<4,>=2.5 in /usr/local/lib/python3.11/dist-packages (from requests->kaggle) (3.10)\n"
          ]
        },
        {
          "output_type": "display_data",
          "data": {
            "text/plain": [
              "<IPython.core.display.HTML object>"
            ],
            "text/html": [
              "\n",
              "     <input type=\"file\" id=\"files-a75c7bcc-3fdf-46fa-afbe-a1de4cc7af2d\" name=\"files[]\" multiple disabled\n",
              "        style=\"border:none\" />\n",
              "     <output id=\"result-a75c7bcc-3fdf-46fa-afbe-a1de4cc7af2d\">\n",
              "      Upload widget is only available when the cell has been executed in the\n",
              "      current browser session. Please rerun this cell to enable.\n",
              "      </output>\n",
              "      <script>// Copyright 2017 Google LLC\n",
              "//\n",
              "// Licensed under the Apache License, Version 2.0 (the \"License\");\n",
              "// you may not use this file except in compliance with the License.\n",
              "// You may obtain a copy of the License at\n",
              "//\n",
              "//      http://www.apache.org/licenses/LICENSE-2.0\n",
              "//\n",
              "// Unless required by applicable law or agreed to in writing, software\n",
              "// distributed under the License is distributed on an \"AS IS\" BASIS,\n",
              "// WITHOUT WARRANTIES OR CONDITIONS OF ANY KIND, either express or implied.\n",
              "// See the License for the specific language governing permissions and\n",
              "// limitations under the License.\n",
              "\n",
              "/**\n",
              " * @fileoverview Helpers for google.colab Python module.\n",
              " */\n",
              "(function(scope) {\n",
              "function span(text, styleAttributes = {}) {\n",
              "  const element = document.createElement('span');\n",
              "  element.textContent = text;\n",
              "  for (const key of Object.keys(styleAttributes)) {\n",
              "    element.style[key] = styleAttributes[key];\n",
              "  }\n",
              "  return element;\n",
              "}\n",
              "\n",
              "// Max number of bytes which will be uploaded at a time.\n",
              "const MAX_PAYLOAD_SIZE = 100 * 1024;\n",
              "\n",
              "function _uploadFiles(inputId, outputId) {\n",
              "  const steps = uploadFilesStep(inputId, outputId);\n",
              "  const outputElement = document.getElementById(outputId);\n",
              "  // Cache steps on the outputElement to make it available for the next call\n",
              "  // to uploadFilesContinue from Python.\n",
              "  outputElement.steps = steps;\n",
              "\n",
              "  return _uploadFilesContinue(outputId);\n",
              "}\n",
              "\n",
              "// This is roughly an async generator (not supported in the browser yet),\n",
              "// where there are multiple asynchronous steps and the Python side is going\n",
              "// to poll for completion of each step.\n",
              "// This uses a Promise to block the python side on completion of each step,\n",
              "// then passes the result of the previous step as the input to the next step.\n",
              "function _uploadFilesContinue(outputId) {\n",
              "  const outputElement = document.getElementById(outputId);\n",
              "  const steps = outputElement.steps;\n",
              "\n",
              "  const next = steps.next(outputElement.lastPromiseValue);\n",
              "  return Promise.resolve(next.value.promise).then((value) => {\n",
              "    // Cache the last promise value to make it available to the next\n",
              "    // step of the generator.\n",
              "    outputElement.lastPromiseValue = value;\n",
              "    return next.value.response;\n",
              "  });\n",
              "}\n",
              "\n",
              "/**\n",
              " * Generator function which is called between each async step of the upload\n",
              " * process.\n",
              " * @param {string} inputId Element ID of the input file picker element.\n",
              " * @param {string} outputId Element ID of the output display.\n",
              " * @return {!Iterable<!Object>} Iterable of next steps.\n",
              " */\n",
              "function* uploadFilesStep(inputId, outputId) {\n",
              "  const inputElement = document.getElementById(inputId);\n",
              "  inputElement.disabled = false;\n",
              "\n",
              "  const outputElement = document.getElementById(outputId);\n",
              "  outputElement.innerHTML = '';\n",
              "\n",
              "  const pickedPromise = new Promise((resolve) => {\n",
              "    inputElement.addEventListener('change', (e) => {\n",
              "      resolve(e.target.files);\n",
              "    });\n",
              "  });\n",
              "\n",
              "  const cancel = document.createElement('button');\n",
              "  inputElement.parentElement.appendChild(cancel);\n",
              "  cancel.textContent = 'Cancel upload';\n",
              "  const cancelPromise = new Promise((resolve) => {\n",
              "    cancel.onclick = () => {\n",
              "      resolve(null);\n",
              "    };\n",
              "  });\n",
              "\n",
              "  // Wait for the user to pick the files.\n",
              "  const files = yield {\n",
              "    promise: Promise.race([pickedPromise, cancelPromise]),\n",
              "    response: {\n",
              "      action: 'starting',\n",
              "    }\n",
              "  };\n",
              "\n",
              "  cancel.remove();\n",
              "\n",
              "  // Disable the input element since further picks are not allowed.\n",
              "  inputElement.disabled = true;\n",
              "\n",
              "  if (!files) {\n",
              "    return {\n",
              "      response: {\n",
              "        action: 'complete',\n",
              "      }\n",
              "    };\n",
              "  }\n",
              "\n",
              "  for (const file of files) {\n",
              "    const li = document.createElement('li');\n",
              "    li.append(span(file.name, {fontWeight: 'bold'}));\n",
              "    li.append(span(\n",
              "        `(${file.type || 'n/a'}) - ${file.size} bytes, ` +\n",
              "        `last modified: ${\n",
              "            file.lastModifiedDate ? file.lastModifiedDate.toLocaleDateString() :\n",
              "                                    'n/a'} - `));\n",
              "    const percent = span('0% done');\n",
              "    li.appendChild(percent);\n",
              "\n",
              "    outputElement.appendChild(li);\n",
              "\n",
              "    const fileDataPromise = new Promise((resolve) => {\n",
              "      const reader = new FileReader();\n",
              "      reader.onload = (e) => {\n",
              "        resolve(e.target.result);\n",
              "      };\n",
              "      reader.readAsArrayBuffer(file);\n",
              "    });\n",
              "    // Wait for the data to be ready.\n",
              "    let fileData = yield {\n",
              "      promise: fileDataPromise,\n",
              "      response: {\n",
              "        action: 'continue',\n",
              "      }\n",
              "    };\n",
              "\n",
              "    // Use a chunked sending to avoid message size limits. See b/62115660.\n",
              "    let position = 0;\n",
              "    do {\n",
              "      const length = Math.min(fileData.byteLength - position, MAX_PAYLOAD_SIZE);\n",
              "      const chunk = new Uint8Array(fileData, position, length);\n",
              "      position += length;\n",
              "\n",
              "      const base64 = btoa(String.fromCharCode.apply(null, chunk));\n",
              "      yield {\n",
              "        response: {\n",
              "          action: 'append',\n",
              "          file: file.name,\n",
              "          data: base64,\n",
              "        },\n",
              "      };\n",
              "\n",
              "      let percentDone = fileData.byteLength === 0 ?\n",
              "          100 :\n",
              "          Math.round((position / fileData.byteLength) * 100);\n",
              "      percent.textContent = `${percentDone}% done`;\n",
              "\n",
              "    } while (position < fileData.byteLength);\n",
              "  }\n",
              "\n",
              "  // All done.\n",
              "  yield {\n",
              "    response: {\n",
              "      action: 'complete',\n",
              "    }\n",
              "  };\n",
              "}\n",
              "\n",
              "scope.google = scope.google || {};\n",
              "scope.google.colab = scope.google.colab || {};\n",
              "scope.google.colab._files = {\n",
              "  _uploadFiles,\n",
              "  _uploadFilesContinue,\n",
              "};\n",
              "})(self);\n",
              "</script> "
            ]
          },
          "metadata": {}
        },
        {
          "output_type": "stream",
          "name": "stdout",
          "text": [
            "Saving kaggle.json to kaggle.json\n"
          ]
        },
        {
          "output_type": "execute_result",
          "data": {
            "text/plain": [
              "{'kaggle.json': b'{\"username\":\"nayebhasin190021115\",\"key\":\"59b499356696f0ee373a154aec71c5a7\"}'}"
            ]
          },
          "metadata": {},
          "execution_count": 2
        }
      ],
      "source": [
        "# Step 1: Install Kaggle and authenticate\n",
        "!pip install kaggle\n",
        "\n",
        "# Upload your Kaggle API key (kaggle.json) to the Colab environment\n",
        "from google.colab import files\n",
        "files.upload()  # Upload your kaggle.json file here\n",
        "\n",
        "\n"
      ]
    },
    {
      "cell_type": "code",
      "source": [
        "from google.colab import drive\n",
        "drive.mount('/content/drive')"
      ],
      "metadata": {
        "colab": {
          "base_uri": "https://localhost:8080/"
        },
        "id": "WrH68WU147wy",
        "outputId": "2ebb32d2-7b42-474f-fabf-450241fd977d"
      },
      "execution_count": 1,
      "outputs": [
        {
          "output_type": "stream",
          "name": "stdout",
          "text": [
            "Drive already mounted at /content/drive; to attempt to forcibly remount, call drive.mount(\"/content/drive\", force_remount=True).\n"
          ]
        }
      ]
    },
    {
      "cell_type": "code",
      "source": [
        "!mkdir \"/content/drive/MyDrive/Colab Notebooks/Dataset\"\n",
        "\n"
      ],
      "metadata": {
        "id": "x3RBuHigM1uJ"
      },
      "execution_count": 9,
      "outputs": []
    },
    {
      "cell_type": "code",
      "source": [
        "!mv kaggle.json \"/content/drive/MyDrive/Colab Notebooks/Dataset/\"\n",
        "!chmod 600 \"/content/drive/MyDrive/Colab Notebooks/Dataset/kaggle.json\""
      ],
      "metadata": {
        "id": "uT7IZrVgNtxZ"
      },
      "execution_count": 5,
      "outputs": []
    },
    {
      "cell_type": "code",
      "source": [
        "dataset_url = \"syednahinhossain/bangladeshi-license-plate-recognition-dataset\"\n",
        "!kaggle datasets download -d {dataset_url}"
      ],
      "metadata": {
        "colab": {
          "base_uri": "https://localhost:8080/"
        },
        "id": "Wg2AvG7_PPCP",
        "outputId": "062ce362-b37c-4dd7-98c4-cbb6925a145c"
      },
      "execution_count": 6,
      "outputs": [
        {
          "output_type": "stream",
          "name": "stdout",
          "text": [
            "Dataset URL: https://www.kaggle.com/datasets/syednahinhossain/bangladeshi-license-plate-recognition-dataset\n",
            "License(s): apache-2.0\n",
            "Downloading bangladeshi-license-plate-recognition-dataset.zip to /content\n",
            " 99% 1.69G/1.70G [00:14<00:00, 148MB/s]\n",
            "100% 1.70G/1.70G [00:14<00:00, 123MB/s]\n"
          ]
        }
      ]
    },
    {
      "cell_type": "code",
      "source": [
        "import zipfile\n",
        "import os\n",
        "dataset_zip = dataset_url.split(\"/\")[-1] + \".zip\"\n",
        "with zipfile.ZipFile(dataset_zip, 'r') as zip_ref:\n",
        "    all_files = zip_ref.namelist()\n",
        "    # Filter only files within the \"Character Recognition\" folder\n",
        "    char_rec_files = [f for f in all_files if f.startswith(\"Character Recognition/\")]\n",
        "    zip_ref.extractall(members=char_rec_files)"
      ],
      "metadata": {
        "id": "jabO6kwtPVao"
      },
      "execution_count": 7,
      "outputs": []
    },
    {
      "cell_type": "code",
      "source": [
        "!mv \"/content/Character Recognition\" \"/content/drive/MyDrive/Colab Notebooks/Dataset/\""
      ],
      "metadata": {
        "id": "oLkJ96X4P4of"
      },
      "execution_count": 10,
      "outputs": []
    },
    {
      "cell_type": "code",
      "source": [
        "# import os\n",
        "# import xml.etree.ElementTree as ET\n",
        "# import csv\n",
        "\n",
        "# # Specify the folder containing the XML files\n",
        "# input_folder = \"/content/drive/MyDrive/Colab Notebooks/Dataset/Character Recognition/test/\"\n",
        "# output_csv = \"/content/drive/MyDrive/Colab Notebooks/Dataset/output.csv\"\n",
        "\n",
        "# # Prepare the CSV file for writing\n",
        "# with open(output_csv, mode=\"w\", newline=\"\", encoding=\"utf-8\") as csv_file:\n",
        "#     csv_writer = csv.writer(csv_file)\n",
        "#     # Write the header row\n",
        "#     csv_writer.writerow([\"file_name\", \"txt\"])\n",
        "\n",
        "#     # Counter for renaming files\n",
        "#     file_counter = 1\n",
        "\n",
        "#     # Iterate through all files in the folder\n",
        "#     for file_name in os.listdir(input_folder):\n",
        "#         if file_name.endswith(\".xml\"):\n",
        "#             # Parse the XML file\n",
        "#             file_path = os.path.join(input_folder, file_name)\n",
        "#             tree = ET.parse(file_path)\n",
        "#             root = tree.getroot()\n",
        "\n",
        "#             # Extract the <name> elements and their bounding box coordinates\n",
        "#             objects = []\n",
        "#             for obj in root.findall(\".//object\"):\n",
        "#                 name_element = obj.find(\"name\")\n",
        "#                 bndbox = obj.find(\"bndbox\")\n",
        "#                 if name_element is not None and bndbox is not None:\n",
        "#                     xmin = int(bndbox.find(\"xmin\").text)\n",
        "#                     ymin = int(bndbox.find(\"ymin\").text)\n",
        "#                     objects.append({\n",
        "#                         \"name\": name_element.text,\n",
        "#                         \"xmin\": xmin,\n",
        "#                         \"ymin\": ymin\n",
        "#                     })\n",
        "\n",
        "#             # Sort objects by (ymin, xmin) to order them from top-left to bottom-right\n",
        "#             objects.sort(key=lambda x: (x[\"ymin\"], x[\"xmin\"]))\n",
        "\n",
        "#             # Extract the sorted names\n",
        "#             names = [obj[\"name\"] for obj in objects]\n",
        "\n",
        "#             # Get the corresponding image file name (assuming it has the same base name as the XML)\n",
        "#             image_base_name = os.path.splitext(file_name)[0]\n",
        "#             image_extensions = [\".jpg\", \".png\"]  # Add more extensions if needed\n",
        "#             image_file = None\n",
        "\n",
        "#             # Check for the existence of the image file with supported extensions\n",
        "#             for ext in image_extensions:\n",
        "#                 image_path = os.path.join(input_folder, f\"{image_base_name}{ext}\")\n",
        "#                 if os.path.exists(image_path):\n",
        "#                     image_file = image_path\n",
        "#                     break\n",
        "\n",
        "#             if image_file:\n",
        "#                 # Rename the XML file\n",
        "#                 new_xml_name = f\"{file_counter}.xml\"\n",
        "#                 new_xml_path = os.path.join(input_folder, new_xml_name)\n",
        "#                 os.rename(file_path, new_xml_path)\n",
        "\n",
        "#                 # Rename the image file\n",
        "#                 new_image_name = f\"{file_counter}{os.path.splitext(image_file)[1]}\"\n",
        "#                 new_image_path = os.path.join(input_folder, new_image_name)\n",
        "#                 os.rename(image_file, new_image_path)\n",
        "\n",
        "#                 # Write the new image name (without extension) and sorted names to the CSV\n",
        "#                 csv_writer.writerow([os.path.splitext(new_image_name)[0], \" \".join(names)])\n",
        "\n",
        "#                 # Increment the counter for the next file\n",
        "#                 file_counter += 1\n",
        "\n",
        "# print(f\"CSV file has been created at {output_csv}\")"
      ],
      "metadata": {
        "colab": {
          "base_uri": "https://localhost:8080/"
        },
        "id": "ScMioOOiUiHW",
        "outputId": "cd66da91-2b69-4b33-d6c1-9349b513fab3"
      },
      "execution_count": 13,
      "outputs": [
        {
          "output_type": "stream",
          "name": "stdout",
          "text": [
            "CSV file has been created at /content/drive/MyDrive/Colab Notebooks/Dataset/output.csv\n"
          ]
        }
      ]
    },
    {
      "cell_type": "code",
      "source": [
        "import os\n",
        "import xml.etree.ElementTree as ET\n",
        "import csv\n",
        "\n",
        "# Specify the folder containing the XML files\n",
        "input_folder = \"/content/drive/MyDrive/Colab Notebooks/Dataset/Character Recognition/test/\"\n",
        "output_csv = \"/content/drive/MyDrive/Colab Notebooks/Dataset/output.csv\"\n",
        "\n",
        "# Define character and number categories\n",
        "char_order = {\"ka\", \"kha\", \"ga\", \"gha\", \"ca\", \"ja\", \"ta\", \"da\", \"na\", \"ba\", \"va\", \"ha\", \"metro\", \"dhaka\", \"khulna\", \"chattogram\", \"jashore\"}\n",
        "num_order = {\"0\", \"1\", \"2\", \"3\", \"4\", \"5\", \"6\", \"7\", \"8\", \"9\"}\n",
        "\n",
        "# Prepare the CSV file for writing\n",
        "with open(output_csv, mode=\"w\", newline=\"\", encoding=\"utf-8\") as csv_file:\n",
        "    csv_writer = csv.writer(csv_file)\n",
        "    # Write the header row\n",
        "    csv_writer.writerow([\"file_name\", \"txt\"])\n",
        "\n",
        "    # Iterate through all files in the folder\n",
        "    for file_name in os.listdir(input_folder):\n",
        "        if file_name.endswith(\".xml\"):\n",
        "            # Parse the XML file\n",
        "            file_path = os.path.join(input_folder, file_name)\n",
        "            tree = ET.parse(file_path)\n",
        "            root = tree.getroot()\n",
        "\n",
        "            # Extract <name> elements and their corresponding xmin values\n",
        "            elements = []\n",
        "            for obj in root.findall(\".//object\"):\n",
        "                name_element = obj.find(\"name\")\n",
        "                xmin_element = obj.find(\"bndbox/xmin\")\n",
        "\n",
        "                if name_element is not None and xmin_element is not None:\n",
        "                    name = name_element.text\n",
        "                    xmin = int(xmin_element.text)\n",
        "                    elements.append((xmin, name))\n",
        "\n",
        "            # Sort elements by xmin\n",
        "            elements.sort()\n",
        "\n",
        "            # Separate characters and numbers\n",
        "            char_list = [name for _, name in elements if name in char_order]\n",
        "            num_list = [name for _, name in elements if name in num_order]\n",
        "\n",
        "            # Combine sorted results\n",
        "            sorted_names = char_list + num_list\n",
        "\n",
        "            # Write to CSV\n",
        "            file_base_name = os.path.splitext(file_name)[0]\n",
        "            csv_writer.writerow([file_base_name, \" \".join(sorted_names)])\n",
        "\n",
        "print(f\"CSV file has been created at {output_csv}\")\n"
      ],
      "metadata": {
        "colab": {
          "base_uri": "https://localhost:8080/"
        },
        "id": "oN_uZPnWAD3X",
        "outputId": "a003e33c-1c64-4cbc-ec5a-f12a0333cb3b"
      },
      "execution_count": 14,
      "outputs": [
        {
          "output_type": "stream",
          "name": "stdout",
          "text": [
            "CSV file has been created at /content/drive/MyDrive/Colab Notebooks/Dataset/output.csv\n"
          ]
        }
      ]
    },
    {
      "cell_type": "code",
      "source": [
        "import pandas as pd\n",
        "\n",
        "def convert_to_bengali(input_text, conversion_dict):\n",
        "    words = input_text.split()\n",
        "    converted_words = [conversion_dict.get(word, word) for word in words]\n",
        "    return ' '.join(converted_words)\n",
        "\n",
        "def main():\n",
        "    # File path to the Excel file\n",
        "    input_file = \"/content/drive/MyDrive/Colab Notebooks/Dataset/output.csv\"\n",
        "    output_file = \"/content/drive/MyDrive/Colab Notebooks/Dataset/output1.xlsx\"\n",
        "\n",
        "    # Define the mapping dictionary\n",
        "    conversion_dict = {\n",
        "        \"0\": \"০\", \"1\": \"১\", \"2\": \"২\", \"3\": \"৩\", \"4\": \"৪\",\n",
        "        \"5\": \"৫\", \"6\": \"৬\", \"7\": \"৭\", \"8\": \"৮\", \"9\": \"৯\",\n",
        "        \"ka\": \"ক\", \"kha\": \"খ\", \"ga\": \"গ\", \"gha\": \"ঘ\", \"ca\": \"চ\",\n",
        "        \"ja\": \"জ\", \"ta\": \"ট\", \"da\": \"ড\", \"na\": \"ন\", \"ba\": \"ব\",\n",
        "        \"va\": \"ভ\", \"ha\": \"হ\", \"metro\": \"মেট্রো\", \"dhaka\": \"ঢাকা\",\n",
        "        \"khulna\": \"খুলনা\", \"chattogram\": \"চট্টগ্রাম\", \"jashore\": \"যোশর\"\n",
        "    }\n",
        "\n",
        "    # Read the Excel file\n",
        "    df = pd.read_csv(input_file)\n",
        "\n",
        "    # Check if the second column exists\n",
        "    if df.shape[1] < 2:\n",
        "        print(\"Error: The file does not have a second column.\")\n",
        "        return\n",
        "\n",
        "    # Convert the second column\n",
        "    df[\"Converted Column\"] = df.iloc[:, 1].apply(lambda x: convert_to_bengali(str(x), conversion_dict))\n",
        "\n",
        "    # Save the output to a new Excel file\n",
        "    df.to_excel(output_file, index=False)\n",
        "    print(f\"Conversion completed. Output saved to {output_file}\")\n",
        "\n",
        "if __name__ == \"__main__\":\n",
        "    main()"
      ],
      "metadata": {
        "colab": {
          "base_uri": "https://localhost:8080/"
        },
        "id": "mSz8OlCUYaan",
        "outputId": "8ebfacbe-1935-45a9-d37b-fb97dbe4e7f8"
      },
      "execution_count": 4,
      "outputs": [
        {
          "output_type": "stream",
          "name": "stdout",
          "text": [
            "Conversion completed. Output saved to /content/drive/MyDrive/Colab Notebooks/Dataset/output1.xlsx\n"
          ]
        }
      ]
    },
    {
      "cell_type": "code",
      "source": [
        "from PIL import Image, ImageDraw\n",
        "import xml.etree.ElementTree as ET\n",
        "\n",
        "# Path to the XML file and corresponding image\n",
        "xml_path = \"/content/drive/MyDrive/Colab Notebooks/Dataset/Character Recognition/test/79_93_1_jpg.rf.f9b4b91ce905bdc995ff9f8a2312001a.xml\"\n",
        "image_path = \"/content/drive/MyDrive/Colab Notebooks/Dataset/Character Recognition/test/79_93_1_jpg.rf.f9b4b91ce905bdc995ff9f8a2312001a.jpg\"\n",
        "\n",
        "# Parse the XML file\n",
        "tree = ET.parse(xml_path)\n",
        "root = tree.getroot()\n",
        "\n",
        "# Load the image\n",
        "image = Image.open(image_path)\n",
        "draw = ImageDraw.Draw(image)\n",
        "\n",
        "# Iterate through all objects in the XML\n",
        "for obj in root.findall(\"object\"):\n",
        "    name = obj.find(\"name\").text\n",
        "    bndbox = obj.find(\"bndbox\")\n",
        "    xmin = int(bndbox.find(\"xmin\").text)\n",
        "    ymin = int(bndbox.find(\"ymin\").text)\n",
        "    xmax = int(bndbox.find(\"xmax\").text)\n",
        "    ymax = int(bndbox.find(\"ymax\").text)\n",
        "\n",
        "    # Draw the bounding box\n",
        "    draw.rectangle([xmin, ymin, xmax, ymax], outline=\"red\", width=2)\n",
        "\n",
        "    # Add the name as a label\n",
        "    draw.text((xmin, ymin - 10), name, fill=\"red\")\n",
        "\n",
        "# Display the image\n",
        "image.show()\n",
        "\n",
        "# Save the image with bounding boxes (optional)\n",
        "output_image_path = \"/content/output_image.jpg\"\n",
        "image.save(output_image_path)\n",
        "print(f\"Image with bounding boxes saved to {output_image_path}\")"
      ],
      "metadata": {
        "colab": {
          "base_uri": "https://localhost:8080/"
        },
        "id": "BVLXv-W__NoV",
        "outputId": "bc48e51c-147b-465f-da5b-bb7fd9e0678d"
      },
      "execution_count": 12,
      "outputs": [
        {
          "output_type": "stream",
          "name": "stdout",
          "text": [
            "Image with bounding boxes saved to /content/output_image.jpg\n"
          ]
        }
      ]
    }
  ]
}